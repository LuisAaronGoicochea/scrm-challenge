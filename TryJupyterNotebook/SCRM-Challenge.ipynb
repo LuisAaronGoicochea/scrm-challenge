{
 "cells": [
  {
   "cell_type": "code",
   "execution_count": 1,
   "id": "f81550d5",
   "metadata": {},
   "outputs": [],
   "source": [
    "import findspark\n",
    "findspark.init()"
   ]
  },
  {
   "cell_type": "code",
   "execution_count": 2,
   "id": "478b8bbf",
   "metadata": {},
   "outputs": [],
   "source": [
    "from pyspark.sql import SparkSession"
   ]
  },
  {
   "cell_type": "code",
   "execution_count": 18,
   "id": "531792aa",
   "metadata": {},
   "outputs": [],
   "source": [
    "from pyspark.sql.functions import *"
   ]
  },
  {
   "cell_type": "code",
   "execution_count": 3,
   "id": "997e402c",
   "metadata": {},
   "outputs": [],
   "source": [
    "spark = SparkSession.builder.getOrCreate()"
   ]
  },
  {
   "cell_type": "code",
   "execution_count": 4,
   "id": "1cdf19e3",
   "metadata": {},
   "outputs": [
    {
     "data": {
      "text/html": [
       "\n",
       "            <div>\n",
       "                <p><b>SparkSession - in-memory</b></p>\n",
       "                \n",
       "        <div>\n",
       "            <p><b>SparkContext</b></p>\n",
       "\n",
       "            <p><a href=\"http://host.docker.internal:4040\">Spark UI</a></p>\n",
       "\n",
       "            <dl>\n",
       "              <dt>Version</dt>\n",
       "                <dd><code>v3.4.0</code></dd>\n",
       "              <dt>Master</dt>\n",
       "                <dd><code>local[*]</code></dd>\n",
       "              <dt>AppName</dt>\n",
       "                <dd><code>pyspark-shell</code></dd>\n",
       "            </dl>\n",
       "        </div>\n",
       "        \n",
       "            </div>\n",
       "        "
      ],
      "text/plain": [
       "<pyspark.sql.session.SparkSession at 0x24b68d90790>"
      ]
     },
     "execution_count": 4,
     "metadata": {},
     "output_type": "execute_result"
    }
   ],
   "source": [
    "spark"
   ]
  },
  {
   "cell_type": "code",
   "execution_count": 9,
   "id": "b9b6e999",
   "metadata": {
    "scrolled": true
   },
   "outputs": [],
   "source": [
    "# Read Products table\n",
    "productsDF = spark.read \\\n",
    "    .format(\"json\") \\\n",
    "    .load(r\"C:\\Users\\lgoicoch\\Documents\\Proyectos Luis\\SCRM\\data\\products.json\")\n",
    "\n",
    "# Read TicketLines table\n",
    "ticketLinesDF = spark.read \\\n",
    "    .format(\"csv\") \\\n",
    "    .option(\"header\", \"true\") \\\n",
    "    .load(r\"C:\\Users\\lgoicoch\\Documents\\Proyectos Luis\\SCRM\\data\\ticket_line.csv\")\n",
    "\n",
    "# Read Stores table\n",
    "storesDF = spark.read \\\n",
    "    .format(\"csv\") \\\n",
    "    .option(\"header\", \"true\") \\\n",
    "    .load(r\"C:\\Users\\lgoicoch\\Documents\\Proyectos Luis\\SCRM\\data\\stores.csv\")"
   ]
  },
  {
   "cell_type": "code",
   "execution_count": 31,
   "id": "d1c1f766",
   "metadata": {},
   "outputs": [
    {
     "name": "stdout",
     "output_type": "stream",
     "text": [
      "+--------+-------+-------+\n",
      "|store_id|country|version|\n",
      "+--------+-------+-------+\n",
      "|      40|     DE|      1|\n",
      "|      41|     DE|      1|\n",
      "|      42|     DE|      1|\n",
      "|      43|     DE|      1|\n",
      "|      44|     DE|      1|\n",
      "|      45|     DE|      1|\n",
      "+--------+-------+-------+\n",
      "\n"
     ]
    }
   ],
   "source": [
    "storesDF.show()"
   ]
  },
  {
   "cell_type": "code",
   "execution_count": 14,
   "id": "7f38b415",
   "metadata": {},
   "outputs": [
    {
     "name": "stdout",
     "output_type": "stream",
     "text": [
      "+----------+--------------+\n",
      "|product_id|total_quantity|\n",
      "+----------+--------------+\n",
      "|         7|         219.0|\n",
      "|         3|         193.0|\n",
      "|         8|         179.0|\n",
      "|         5|         160.0|\n",
      "|         6|         240.0|\n",
      "|         9|         147.0|\n",
      "|         1|         211.0|\n",
      "|        10|         206.0|\n",
      "|         4|         228.0|\n",
      "|         2|         193.0|\n",
      "+----------+--------------+\n",
      "\n"
     ]
    }
   ],
   "source": [
    "totalQuantityDF = ticketLinesDF.groupBy(\"product_id\") \\\n",
    "  .agg(sum(\"quantity\").alias(\"total_quantity\"))\n",
    "\n",
    "totalQuantityDF.show()"
   ]
  },
  {
   "cell_type": "code",
   "execution_count": 15,
   "id": "8d0eda8f",
   "metadata": {},
   "outputs": [
    {
     "name": "stdout",
     "output_type": "stream",
     "text": [
      "+---------+--------------------+-------+\n",
      "|ticket_id|        product_name|country|\n",
      "+---------+--------------------+-------+\n",
      "|       22|    Sondey hazelnuts|     DE|\n",
      "|      258|      Sondey cookeys|     DE|\n",
      "|      623|      Milbona cheese|     DE|\n",
      "|      727|       Milbona yogur|     DE|\n",
      "|      994|      Milbona cheese|     DE|\n",
      "|      844|      Sondey cookeys|     DE|\n",
      "|      234|   Freshona potatoes|     DE|\n",
      "|      206|    Sondey digestive|     DE|\n",
      "|      477|   Freshona potatoes|     DE|\n",
      "|      496|    Sondey hazelnuts|     DE|\n",
      "|      511|   Freshona potatoes|     DE|\n",
      "|      507|      Milbona cheese|     DE|\n",
      "|      271|      Sondey cookeys|     DE|\n",
      "|      567|   Freshona potatoes|     DE|\n",
      "|      175|       Milbona yogur|     DE|\n",
      "|       45|       Milbona yogur|     DE|\n",
      "|      385|Crownfield with milk|     DE|\n",
      "|      708|   Freshona potatoes|     DE|\n",
      "|      552|Crownfield with milk|     DE|\n",
      "|      889|    Sondey digestive|     DE|\n",
      "+---------+--------------------+-------+\n",
      "only showing top 20 rows\n",
      "\n"
     ]
    }
   ],
   "source": [
    "joinedDF = ticketLinesDF.join(productsDF, [\"product_id\"]) \\\n",
    "  .join(storesDF, [\"store_id\"]) \\\n",
    "  .select(\"ticket_id\", \"product_name\", \"country\")\n",
    "\n",
    "joinedDF.show()"
   ]
  },
  {
   "cell_type": "markdown",
   "id": "32774a48",
   "metadata": {},
   "source": [
    "### 1. Find how many different stores is each product being sold. Please consider only the stores provided in the store.csv file, as not all stores are included in the Lidl Plus program."
   ]
  },
  {
   "cell_type": "code",
   "execution_count": 17,
   "id": "ca7e4eb5",
   "metadata": {},
   "outputs": [
    {
     "name": "stdout",
     "output_type": "stream",
     "text": [
      "+----------+----------+\n",
      "|product_id|num_stores|\n",
      "+----------+----------+\n",
      "|         7|         6|\n",
      "|         3|         6|\n",
      "|         8|         6|\n",
      "|         5|         6|\n",
      "|         6|         6|\n",
      "|         9|         6|\n",
      "|         1|         6|\n",
      "|        10|         6|\n",
      "|         4|         6|\n",
      "|         2|         6|\n",
      "+----------+----------+\n",
      "\n"
     ]
    }
   ],
   "source": [
    "# First Question\n",
    "distinctStoresDF = ticketLinesDF \\\n",
    "  .join(productsDF, [\"product_id\"]) \\\n",
    "  .join(storesDF, [\"store_id\"]) \\\n",
    "  .groupBy(\"product_id\") \\\n",
    "  .agg(countDistinct(\"store_id\").alias(\"num_stores\"))\n",
    "\n",
    "distinctStoresDF.show()"
   ]
  },
  {
   "cell_type": "markdown",
   "id": "4a5afdfe",
   "metadata": {},
   "source": [
    "### 2. Calculate the 2nd most selling store for each product as we need a target for advertisement. As the previous one, consider only the stores that are included in the store.csv file."
   ]
  },
  {
   "cell_type": "code",
   "execution_count": 19,
   "id": "3aa1a38f",
   "metadata": {},
   "outputs": [
    {
     "name": "stdout",
     "output_type": "stream",
     "text": [
      "+----------+--------+--------------+\n",
      "|product_id|store_id|total_quantity|\n",
      "+----------+--------+--------------+\n",
      "|         1|      42|          31.0|\n",
      "|        10|      42|          30.0|\n",
      "|         2|      42|          25.0|\n",
      "|         3|      44|          28.0|\n",
      "|         4|      42|          35.0|\n",
      "|         5|      41|          24.0|\n",
      "|         6|      45|          42.0|\n",
      "|         7|      40|          36.0|\n",
      "|         8|      41|          21.0|\n",
      "|         9|      40|          23.0|\n",
      "+----------+--------+--------------+\n",
      "\n"
     ]
    }
   ],
   "source": [
    "from pyspark.sql.window import Window\n",
    "\n",
    "windowSpec = Window.partitionBy(\"product_id\").orderBy(desc(\"total_quantity\"))\n",
    "\n",
    "rankedStoresDF = ticketLinesDF \\\n",
    "  .join(storesDF, [\"store_id\"]) \\\n",
    "  .groupBy(\"product_id\", \"store_id\") \\\n",
    "  .agg(sum(\"quantity\").alias(\"total_quantity\")) \\\n",
    "  .withColumn(\"rank\", row_number().over(windowSpec))\n",
    "\n",
    "secondMostSellingDF = rankedStoresDF \\\n",
    "  .filter(col(\"rank\") == 2) \\\n",
    "  .select(\"product_id\", \"store_id\", \"total_quantity\")\n",
    "\n",
    "secondMostSellingDF.show()"
   ]
  },
  {
   "cell_type": "markdown",
   "id": "4dc10260",
   "metadata": {},
   "source": [
    "### 3. The marketing team wants to group all these second stores by product category, so they can focus on different stores by using the same advertisement approach. As they don’t care about internal id’s, please provide one row per product category_name and include all the stores within that row."
   ]
  },
  {
   "cell_type": "code",
   "execution_count": 27,
   "id": "c7febd29",
   "metadata": {},
   "outputs": [
    {
     "name": "stdout",
     "output_type": "stream",
     "text": [
      "+-----------------+------------+\n",
      "|category_name    |stores      |\n",
      "+-----------------+------------+\n",
      "|[Cereal]         |[42, 41]    |\n",
      "|[Vegetables]     |[42, 40]    |\n",
      "|[Cookies, Cereal]|[40]        |\n",
      "|[Dairy product]  |[42, 42, 44]|\n",
      "|[Cookies]        |[45, 41]    |\n",
      "+-----------------+------------+\n",
      "\n"
     ]
    }
   ],
   "source": [
    "groupedStoresDF = secondMostSellingDF \\\n",
    "  .join(productsDF, secondMostSellingDF[\"product_id\"] == productsDF[\"product_id\"]) \\\n",
    "  .select(productsDF[\"categories.category_name\"].alias(\"category_name\"), secondMostSellingDF[\"store_id\"]) \\\n",
    "  .groupBy(\"category_name\") \\\n",
    "  .agg(collect_list(\"store_id\").alias(\"stores\"))\n",
    "\n",
    "groupedStoresDF.show(truncate=False)"
   ]
  },
  {
   "cell_type": "markdown",
   "id": "a1460d3d",
   "metadata": {},
   "source": [
    "### 4. Now, let’s imagine that the integration team is developing a new version for the stores model. They will send this new data for the “version 2” of stores available only for some countries. (That means that you will be receiving both versions simultaneously). They have changed the meaning of store_id and country, so the new store_id has the country prepended to it like “FR99” and the country field is omitted."
   ]
  },
  {
   "cell_type": "code",
   "execution_count": 36,
   "id": "96e31fc3",
   "metadata": {},
   "outputs": [
    {
     "name": "stdout",
     "output_type": "stream",
     "text": [
      "+--------+-------+-------+\n",
      "|store_id|country|version|\n",
      "+--------+-------+-------+\n",
      "|      40|     DE|      1|\n",
      "|      41|     DE|      1|\n",
      "|      42|     DE|      1|\n",
      "|      43|     DE|      1|\n",
      "|      44|     DE|      1|\n",
      "|      45|     DE|      1|\n",
      "|      46|     DE|      1|\n",
      "|      47|     DE|      2|\n",
      "+--------+-------+-------+\n",
      "\n"
     ]
    }
   ],
   "source": [
    "storesV2DF = spark.read.csv(r\"C:\\Users\\lgoicoch\\Documents\\Proyectos Luis\\SCRM\\data\\stores_v2.csv\", header=True)\n",
    "\n",
    "# Separar la columna \"store_id\" en el DataFrame \"storesV2DF\"\n",
    "storesV2DF = storesV2DF.select(\n",
    "    col(\"store_id\").substr(3, 2).alias(\"store_id\"), \n",
    "    col(\"store_id\").substr(1, 2).alias(\"country\"), \"version\")\n",
    "\n",
    "# Actualizar el DataFrame \"storesDF\" para incorporar los datos del DataFrame \"storesV2DF\"\n",
    "storesDF = storesDF.union(storesV2DF)\n",
    "\n",
    "# Mostrar el DataFrame integrado resultante\n",
    "storesDF.show()"
   ]
  },
  {
   "cell_type": "markdown",
   "id": "9dfd9335",
   "metadata": {},
   "source": [
    "### 5. Considering this ETL complete, we need to productize it: prepare it on the version control system, automatically deploy the changes, ensure that there is no software regression on new releases, and check that the process works fine. Which steps would you take?"
   ]
  },
  {
   "cell_type": "markdown",
   "id": "138ae528",
   "metadata": {},
   "source": [
    "To productize the ETL process and ensure smooth deployment and regression testing, here are some steps you can take:\n",
    "\n",
    "Version Control System: Set up a version control system (e.g., Git) to manage your ETL code and configurations. Commit your code to the repository, and create branches or tags for different releases or versions.\n",
    "\n",
    "Continuous Integration/Continuous Deployment (CI/CD): Implement a CI/CD pipeline to automate the deployment process. Use tools like Jenkins, GitLab CI/CD, or AWS CodePipeline to automate the build, testing, and deployment stages.\n",
    "\n",
    "Automated Testing: Develop comprehensive automated tests for your ETL process. This includes unit tests to validate individual components and integration tests to verify the end-to-end functionality. Use testing frameworks like PyTest or Spark Testing Base for Spark-related testing.\n",
    "\n",
    "Regression Testing: As part of the CI/CD pipeline, include regression tests to ensure that new releases or changes do not introduce software regressions. These tests should cover critical functionalities and edge cases to identify any issues or data inconsistencies.\n",
    "\n",
    "Monitoring and Logging: Implement robust monitoring and logging mechanisms to capture and track the ETL process's performance and errors. Use tools like ELK Stack (Elasticsearch, Logstash, Kibana) or Apache Airflow's monitoring capabilities to gain visibility into the process's execution.\n",
    "\n",
    "Documentation: Document your ETL process, including the overall architecture, data flow, and dependencies. Capture the configuration parameters and any specific deployment requirements. This documentation will help ensure consistency and facilitate future updates or maintenance.\n",
    "\n",
    "Rollback Strategy: Define a rollback strategy in case any issues arise during the deployment of a new version. This may involve rolling back to the previous version, taking appropriate backups, or implementing a blue-green deployment approach to switch between versions seamlessly.\n",
    "\n",
    "Continuous Improvement: Continuously monitor the ETL process's performance and reliability. Collect feedback from users, monitor system metrics, and address any identified issues or bottlenecks. Use this feedback to drive continuous improvement of the ETL process.\n",
    "\n",
    "By following these steps, you can ensure the stability, reliability, and scalability of your ETL process while automating the deployment and testing processes. This helps in maintaining data consistency, reducing manual efforts, and enabling faster releases with confidence."
   ]
  },
  {
   "cell_type": "markdown",
   "id": "bd0f8dce",
   "metadata": {},
   "source": [
    "## AWS Data Architecture with Cloud-Native Services:"
   ]
  },
  {
   "attachments": {
    "Pregunta5-2.PNG": {
     "image/png": "[encoded data removed]"
    }
   },
   "cell_type": "markdown",
   "id": "d635ff63",
   "metadata": {},
   "source": [
    "![Pregunta5-2.PNG](attachment:Pregunta5-2.PNG)"
   ]
  }
 ],
 "metadata": {
  "kernelspec": {
   "display_name": "Python 3 (ipykernel)",
   "language": "python",
   "name": "python3"
  },
  "language_info": {
   "codemirror_mode": {
    "name": "ipython",
    "version": 3
   },
   "file_extension": ".py",
   "mimetype": "text/x-python",
   "name": "python",
   "nbconvert_exporter": "python",
   "pygments_lexer": "ipython3",
   "version": "3.11.3"
  }
 },
 "nbformat": 4,
 "nbformat_minor": 5
}
